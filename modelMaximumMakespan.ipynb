{
 "cells": [
  {
   "cell_type": "code",
   "execution_count": 3,
   "id": "502de20a",
   "metadata": {},
   "outputs": [],
   "source": [
    "from ortools.linear_solver import pywraplp\n",
    "#from ortools.sat.python import cp_model\n",
    "import numpy as np\n",
    "import plotly.express as px\n",
    "import plotly.figure_factory as ff\n",
    "import matplotlib.pyplot as plt\n",
    "import pandas as pd\n",
    "import time"
   ]
  },
  {
   "cell_type": "code",
   "execution_count": 4,
   "id": "8999a03a",
   "metadata": {},
   "outputs": [],
   "source": [
    "def generateGanttChart(R,P,T,robotSchedule,startTimeSchedule,processTime):\n",
    "    tasks_per_product = 3\n",
    "    products = ['Product ' + str(i) for i in range(1, P+1)]\n",
    "    robots = ['Robot ' + str(i) for i in range(1, R+1)]\n",
    "    df = pd.DataFrame(columns=['Task', 'Robot', 'Product', 'Start', 'Finish'])\n",
    "    task_id = 0\n",
    "    colors = {'Product 1': 'red', 'Product 2': 'green', 'Product 3': 'blue', 'Product 4': 'orange', 'Product 5': 'purple','Product 6': 'black',}\n",
    "    estimatedTime = sum(processTime,[])\n",
    "    for product in products:\n",
    "        for task_num in range(1, tasks_per_product+1):\n",
    "            task_name = product + ' Task ' + str(task_num)\n",
    "            robot = robotSchedule[task_id]+1\n",
    "            start = startTimeSchedule[task_id]\n",
    "            finish = startTimeSchedule[task_id]+estimatedTime[task_id]\n",
    "            df.loc[task_id] = [task_name, robot, product, start, finish]\n",
    "            task_id += 1\n",
    "            \n",
    "    df['task_duration'] = df['Finish'] - df['Start']\n",
    "    print(df)\n",
    "    # Create the Gantt chart\n",
    "    fig, ax = plt.subplots(figsize=(10, 6))\n",
    "    for i, row in df.iterrows():\n",
    "        ax.barh(y=row['Robot'], width=row['task_duration'], left=row['Start'], height=0.5, color=colors[row['Product']])\n",
    "        ax.text(row['Start'], row['Robot'], row['Task'], ha='left', va='center', color='white', fontsize=8)\n",
    "    \n",
    "    # Set the x-axis and y-axis labels\n",
    "    ax.set_title('Work Schedule')\n",
    "    ax.set_xlabel('Hours')\n",
    "    ax.set_ylabel('Robot')\n",
    "    # Set the y-axis ticks\n",
    "    ax.set_yticks(range(1, R+1))\n",
    "    ax.set_yticklabels(robots)\n",
    "    # Set the x-axis range to start at 0\n",
    "    ax.set_xlim([0, df['Finish'].max()])\n",
    "    \n",
    "    # Show the Gantt chart\n",
    "    plt.show()"
   ]
  },
  {
   "cell_type": "code",
   "execution_count": 5,
   "id": "10b8aefa",
   "metadata": {},
   "outputs": [],
   "source": [
    "# Declare the MILP sovler with the sat backend\n",
    "solver = pywraplp.Solver.CreateSolver('SAT')\n",
    "if not solver:\n",
    "    print(\"No such solver\")"
   ]
  },
  {
   "cell_type": "code",
   "execution_count": 6,
   "id": "2c8a5460",
   "metadata": {},
   "outputs": [],
   "source": [
    "# Define Constant Variables\n",
    "\n",
    "# Assume that there are 4 robots and 5 products need to be processed.\n",
    "# Each product process contains 3 tasks.\n",
    "R=6\n",
    "P=6\n",
    "T=3\n",
    "\n",
    "# Estimated Processing Time\n",
    "E = [50,28,48]\n",
    "changeTime = 40\n",
    "# Transportation Time\n",
    "L = [[0 for j in range(R)] for i in range(R)]\n",
    "\n",
    "# Color\n",
    "'''\n",
    "color = [[1,1,2],[2,3,1],[3,2,2],[1,3,2],[3,1,3],\n",
    "         [3,1,2],[1,2,1],[3,3,3],[2,3,1],[2,2,1],\n",
    "         [1,1,2],[3,3,1],[1,2,3],[2,2,3],[3,3,2],\n",
    "         [2,2,2],[1,1,3],[2,2,1],[2,3,1],[3,2,2]]\n",
    "'''\n",
    "color = [[1,1,2],[2,3,1],[3,2,2],[1,3,2],[3,1,3],\n",
    "         [3,1,2]]"
   ]
  },
  {
   "cell_type": "code",
   "execution_count": 7,
   "id": "ea7e2168",
   "metadata": {},
   "outputs": [],
   "source": [
    "Row = 30\n",
    "Column = 4\n",
    "#Robots = [0,28,52,80,116,3,31,55,83,119]\n",
    "Robots = [0,28,52,3,31,55]\n",
    "#Map = np.arange(120).reshape(Row, Column)\n",
    "for k in range(R):\n",
    "    for w in range(R):\n",
    "        if k==w:\n",
    "            L[k][w]=0\n",
    "        elif k==w-3 or k-3==w:\n",
    "            L[k][w]=4\n",
    "        elif k<=2 and w <=2:\n",
    "            L[k][w]=np.abs((Robots[k]-Robots[w])/4)+1\n",
    "        elif k<=2 and w>2:\n",
    "            L[k][w]=np.abs((Robots[w-3]-Robots[k])/4)+1+4\n",
    "        elif k>2 and w<=2:\n",
    "            L[k][w]=np.abs((Robots[k-3]-Robots[w])/4)+1+4\n",
    "        elif k>2 and w>2:\n",
    "            L[k][w]=np.abs((Robots[k]-Robots[w])/4)+1"
   ]
  },
  {
   "cell_type": "code",
   "execution_count": 8,
   "id": "c47aeb34",
   "metadata": {},
   "outputs": [
    {
     "data": {
      "text/plain": [
       "[[0, 8.0, 14.0, 4, 12.0, 18.0],\n",
       " [8.0, 0, 7.0, 12.0, 4, 11.0],\n",
       " [14.0, 7.0, 0, 18.0, 11.0, 4],\n",
       " [4, 12.0, 18.0, 0, 8.0, 14.0],\n",
       " [12.0, 4, 11.0, 8.0, 0, 7.0],\n",
       " [18.0, 11.0, 4, 14.0, 7.0, 0]]"
      ]
     },
     "execution_count": 8,
     "metadata": {},
     "output_type": "execute_result"
    }
   ],
   "source": [
    "L"
   ]
  },
  {
   "cell_type": "code",
   "execution_count": 9,
   "id": "804c2916",
   "metadata": {},
   "outputs": [
    {
     "name": "stdout",
     "output_type": "stream",
     "text": [
      "Number of variables = 2070\n"
     ]
    }
   ],
   "source": [
    "# Define Decision Variables\n",
    "\n",
    "# Waiting time of task ij\n",
    "#w = [[solver.NumVar(0, solver.infinity(), f'w_{i}_{j}') for j in range(T)] for i in range(P)]\n",
    "\n",
    "# Start time of task ij\n",
    "s = [[solver.IntVar(0, solver.infinity(), f's_{i}_{j}') for j in range(T)] for i in range(P)]\n",
    "\n",
    "# Task allocation. Equals 1 if t_{ij} is performed on robot k, 0 otherwise.\n",
    "x = [[[solver.IntVar(0,1,f'x_{i}_{j}_{k}') for k in range(R)] for j in range(T)] for i in range(P)]\n",
    "\n",
    "# Task sequence. Equals 1 if x_{ij} is performed before x_{gh} on robot k, 0 otherwise.\n",
    "y = [[[[[solver.IntVar(0,1,f'y_{i}_{j}_{g}_{h}_{k}') for k in range(R)] for h in range(T)] for g in range(P)] for j in range(T)] for i in range(P)]\n",
    "\n",
    "print('Number of variables =', solver.NumVariables())"
   ]
  },
  {
   "cell_type": "code",
   "execution_count": 10,
   "id": "ba39ebf0",
   "metadata": {},
   "outputs": [],
   "source": [
    "# Add intermediate variables\n",
    "\n",
    "# Two variables multiplication. xp = x[i][j][k]*x[g][h][k]\n",
    "xp = [[[[[solver.IntVar(0,1,f'xp_{i}_{j}_{g}_{h}_{k}') for k in range(R)] for h in range(T)] for g in range(P)] for j in range(T)] for i in range(P)]\n",
    "for k in range(R):\n",
    "    for i in range(P):\n",
    "        for j in range(T):\n",
    "            for g in range(P):\n",
    "                for h in range(T):\n",
    "                    if not(i==g and j==h):\n",
    "                        solver.Add(xp[i][j][g][h][k]<=x[i][j][k])\n",
    "                        solver.Add(xp[i][j][g][h][k]<=x[g][h][k])\n",
    "                        solver.Add(xp[i][j][g][h][k]>=x[i][j][k]+x[g][h][k]-1)\n",
    "\n",
    "# Workload\n",
    "v = [solver.IntVar(0,solver.infinity(),f'v_{k}') for k in range(R)]\n",
    "c = [[[x[i][j][k]*E[j] for k in range(R)] for j in range(T)] for i in range(P)]\n",
    "workLoad = [sum(sum([[c[i][j][k] for j in range(T)] for i in range(P)],[])) for k in range(R)]\n",
    "workLoad_hat = sum(workLoad)/R\n",
    "for k in range(R):\n",
    "    solver.Add(v[k]>=workLoad[k]-workLoad_hat)\n",
    "    solver.Add(v[k]>=workLoad_hat-workLoad[k])\n",
    "\n",
    "# yij = y[i][j][g][h][k]*s[i][j]\n",
    "# ygh = y[i][j][g][h][k]*s[g][h]\n",
    "yij = [[[[[solver.IntVar(0,solver.infinity(),f'yij_{i}_{j}_{g}_{h}_{k}') for k in range(R)] for h in range(T)] for g in range(P)] for j in range(T)] for i in range(P)]\n",
    "ygh = [[[[[solver.IntVar(0,solver.infinity(),f'ygh_{i}_{j}_{g}_{h}_{k}') for k in range(R)] for h in range(T)] for g in range(P)] for j in range(T)] for i in range(P)]\n",
    "for k in range(R):\n",
    "    for i in range(P):\n",
    "        for j in range(T):\n",
    "            for g in range(P):\n",
    "                for h in range(T):\n",
    "                    if not(i==g and j==h):\n",
    "                        solver.Add(yij[i][j][g][h][k]<=100000*y[i][j][g][h][k])\n",
    "                        solver.Add(yij[i][j][g][h][k]<=s[i][j])\n",
    "                        solver.Add(yij[i][j][g][h][k]>=s[i][j]-(1-y[i][j][g][h][k])*100000)\n",
    "                        solver.Add(yij[i][j][g][h][k]>=0)\n",
    "\n",
    "                        solver.Add(ygh[i][j][g][h][k]<=100000*y[i][j][g][h][k])\n",
    "                        solver.Add(ygh[i][j][g][h][k]<=s[g][h])\n",
    "                        solver.Add(ygh[i][j][g][h][k]>=s[g][h]-(1-y[i][j][g][h][k])*100000)\n",
    "                        solver.Add(ygh[i][j][g][h][k]>=0) \n",
    "                    \n",
    "# Robots of next task\n",
    "f = [[[[solver.IntVar(0,1,f'f_{i}_{j}_{k}_{w}') for w in range(R)] for k in range(R)] for j in range(T-1)] for i in range(P)]\n",
    "for i in range(P):\n",
    "    for j in range(T-1):\n",
    "        for k in range(R):\n",
    "            for w in range(R):\n",
    "                solver.Add(f[i][j][k][w]<=x[i][j][k])\n",
    "                solver.Add(f[i][j][k][w]<=x[i][j+1][w])\n",
    "                solver.Add(f[i][j][k][w]>=x[i][j][k]+x[i][j+1][w]-1)\n",
    "                \n",
    "# Equals 1 when previous task has different predefined color\n",
    "penalty = [[[[solver.IntVar(0,1,f'penalty_{i}_{j}_{g}_{h}')  for h in range(T)] for g in range(P)] for j in range(T)] for i in range(P)]\n",
    "for i in range(P):\n",
    "    for j in range(T):\n",
    "        for g in range(P):\n",
    "            for h in range(T):\n",
    "                penalty[i][j][g][h] = ((color[i][j] - color[g][h])!=0)\n",
    "                \n",
    "# Equals 1 when task ij is next to and before task gh\n",
    "z = [[[[[solver.IntVar(0,1,f'z_{i}_{j}_{g}_{h}_{k}') for k in range(R)] for h in range(T)] for g in range(P)] for j in range(T)] for i in range(P)]\n",
    "\n",
    "# Sum of how many tasks are performed before task gh\n",
    "#pTasks = [[[solver.IntVar(0,solver.infinity(),f'pTasks_{i}_{j}_{k}') for k in range(R)] for j in range(T)] for i in range(P)]\n",
    "pTasks = [[[0 for k in range(R)] for h in range(T)] for g in range(P)]\n",
    "for k in range(R):\n",
    "    for g in range(P):\n",
    "        for h in range(T):\n",
    "            solver.Add(sum(z[i][j][g][h][k] for i in range(P) for j in range(T)) == x[g][h][k])\n",
    "            pTasks[g][h][k] = sum(y[i][j][g][h][k] for j in range(T) for i in range(P))\n",
    "\n",
    "difference = [[[[[solver.IntVar(0,solver.infinity(),f'difference_{i}_{j}_{g}_{h}_{k}') for k in range(R)] for h in range(T)] for g in range(P)] for j in range(T)] for i in range(P)]\n",
    "maxFlag = [[[[[solver.IntVar(0,1,f'maxFlag_{i}_{j}_{g}_{h}_{k}') for k in range(R)] for h in range(T)] for g in range(P)] for j in range(T)] for i in range(P)]\n",
    "maxVaule = [[[[[solver.IntVar(0,solver.infinity(),f'maxVaule_{i}_{j}_{g}_{h}_{k}') for k in range(R)] for h in range(T)] for g in range(P)] for j in range(T)] for i in range(P)]\n",
    "for k in range(R):\n",
    "    for g in range(P):\n",
    "        for h in range(T):\n",
    "            for i in range(P):\n",
    "                for j in range(T):\n",
    "                    if i==g and j==h:\n",
    "                        solver.Add(difference[i][j][g][h][k] == 10)\n",
    "                        solver.Add(z[i][j][g][h][k] == 0)\n",
    "                    else:\n",
    "                        solver.Add(maxVaule[i][j][g][h][k] >= (pTasks[g][h][k] - pTasks[i][j][k]))\n",
    "                        solver.Add(maxVaule[i][j][g][h][k] >= -(pTasks[g][h][k] - pTasks[i][j][k]))\n",
    "                        solver.Add(maxVaule[i][j][g][h][k] <= 10000*(1-maxFlag[i][j][g][h][k])+(pTasks[g][h][k] - pTasks[i][j][k]))\n",
    "                        solver.Add(maxVaule[i][j][g][h][k] <= 10000*maxFlag[i][j][g][h][k]-(pTasks[g][h][k] - pTasks[i][j][k]))\n",
    "                        solver.Add(difference[i][j][g][h][k] >= (pTasks[g][h][k] - pTasks[i][j][k]))\n",
    "                        solver.Add(difference[i][j][g][h][k] >= -(pTasks[g][h][k] - pTasks[i][j][k]))\n",
    "                        solver.Add(difference[i][j][g][h][k] <= maxVaule[i][j][g][h][k])\n",
    "                        \n",
    "# zDiff = z*difference\n",
    "zDiff = [[[[[solver.IntVar(0,1,f'zDiff_{i}_{j}_{g}_{h}_{k}') for k in range(R)] for h in range(T)] for g in range(P)] for j in range(T)] for i in range(P)]\n",
    "for k in range(R):\n",
    "    for i in range(P):\n",
    "        for j in range(T):\n",
    "            for g in range(R):\n",
    "                for h in range(T):\n",
    "                    if not(i==g and j==h):\n",
    "                        solver.Add(zDiff[i][j][g][h][k] <= 10000 * z[i][j][g][h][k])\n",
    "                        solver.Add(zDiff[i][j][g][h][k] <= difference[i][j][g][h][k])\n",
    "                        solver.Add(zDiff[i][j][g][h][k] >= difference[i][j][g][h][k] -(1-z[i][j][g][h][k])*10000)\n",
    "                        solver.Add(zDiff[i][j][g][h][k] >= 0)\n",
    "                    else:\n",
    "                        solver.Add(zDiff[i][j][g][h][k] == 1)\n",
    " # Add constraints for zDiff\n",
    "for k in range(R):\n",
    "    for i in range(P):\n",
    "        for j in range(T):\n",
    "            for g in range(P):\n",
    "                for h in range(T):\n",
    "                    if not(i==g and j==h):\n",
    "                        solver.Add(zDiff[i][j][g][h][k]>=0)\n",
    "                        solver.Add(zDiff[i][j][g][h][k]<=1)\n",
    "                        solver.Add(zDiff[i][j][g][h][k]<=y[i][j][g][h][k])\n",
    "                        solver.Add(zDiff[i][j][g][h][k]==z[i][j][g][h][k])\n",
    "\n",
    "\n",
    "           \n",
    " # colorChange = z*penalty\n",
    "# Equals 1 when previous task performed on the same robot has different predefined color\n",
    "colorChange = [[[[[solver.IntVar(0,1,f'colorChange_{i}_{j}_{g}_{h}_{k}') for k in range(R)] for h in range(T)] for g in range(P)] for j in range(T)] for i in range(P)]\n",
    "for k in range(R):\n",
    "    for i in range(P):\n",
    "        for j in range(T):\n",
    "            for g in range(P):\n",
    "                for h in range(T):\n",
    "                    if not(i==g and j==h):\n",
    "                        solver.Add(colorChange[i][j][g][h][k] <= penalty[i][j][g][h])\n",
    "                        solver.Add(colorChange[i][j][g][h][k] <= z[i][j][g][h][k])\n",
    "                        solver.Add(colorChange[i][j][g][h][k] >= penalty[i][j][g][h]+z[i][j][g][h][k]-1)\n",
    "                    else:\n",
    "                        solver.Add(colorChange[i][j][g][h][k] == 0)\n",
    "# yChange = y*colorChange\n",
    "\n",
    "yChange = [[[[[solver.IntVar(0,1,f'yChange_{i}_{j}_{g}_{h}_{k}') for k in range(R)] for h in range(T)] for g in range(P)] for j in range(T)] for i in range(P)]\n",
    "for k in range(R):\n",
    "    for i in range(P):\n",
    "        for j in range(T):\n",
    "            for g in range(P):\n",
    "                for h in range(T):\n",
    "                    solver.Add(yChange[i][j][g][h][k]<=y[i][j][g][h][k])\n",
    "                    solver.Add(yChange[i][j][g][h][k]<=colorChange[i][j][g][h][k])\n",
    "                    solver.Add(yChange[i][j][g][h][k]>=y[i][j][g][h][k]+colorChange[i][j][g][h][k]-1)\n",
    "                        \n",
    "# Penalty time\n",
    "pt = [[[[[yChange[i][j][g][h][k]*changeTime for k in range(R)] for h in range(T)] for g in range(P)] for j in range(T)] for i in range(P)]\n",
    "waitingTimeForChange = [[0 for h in range(T)] for g in range(P)]\n",
    "for k in range(R):\n",
    "    for i in range(P):\n",
    "        for j in range(T):\n",
    "            for g in range(P):\n",
    "                for h in range(T):\n",
    "                    if not(i==g and j==h):\n",
    "                        waitingTimeForChange[g][h] += pt[i][j][g][h][k]\n"
   ]
  },
  {
   "cell_type": "code",
   "execution_count": 11,
   "id": "7230637f",
   "metadata": {},
   "outputs": [],
   "source": [
    "# Define Objective functions\n",
    "\n",
    "# Minimize the makespan\n",
    "makespan = solver.IntVar(0, solver.infinity(), f'm')\n",
    "for i in range(P):\n",
    "    for j in range(T):\n",
    "        solver.Add(makespan>=s[i][j]+E[2])\n",
    "#solver.Minimize(cycleTime)\n",
    "z1 = makespan\n",
    "\n",
    "# Minimize the variance of workload\n",
    "#solver.Minimize(1/R*sum(y))\n",
    "z2 = sum(v)/R\n",
    "\n",
    "# Weights of each objective functions\n",
    "weights = [(1, 0), (0.9, 0.1), (0.8, 0.2), (0.7, 0.3), (0.6, 0.4), (0.5, 0.5), (0.4, 0.6), (0.3, 0.7), (0.2, 0.8), (0.1, 0.9)]"
   ]
  },
  {
   "cell_type": "code",
   "execution_count": 12,
   "id": "c4fbcdc2",
   "metadata": {},
   "outputs": [],
   "source": [
    "# Define constraints\n",
    "\n",
    "# Constraints of convert workload function\n",
    "c = [[[x[i][j][k]*E[j] for k in range(R)] for j in range(T)] for i in range(P)]\n",
    "workLoad = [sum(sum([[c[i][j][k] for j in range(T)] for i in range(P)],[])) for k in range(R)]\n",
    "workLoad_hat = sum(workLoad)/R\n",
    "for k in range(R):\n",
    "    solver.Add(v[k]>=workLoad[k]-workLoad_hat)\n",
    "    solver.Add(v[k]>=workLoad_hat-workLoad[k])\n",
    "\n",
    "# One task could be only processed on one robot\n",
    "for i in range(P):\n",
    "    for j in range(T):\n",
    "            solver.Add(sum([x[i][j][k]*1 for k in range(R)])==1)\n",
    "\n",
    "# Every Start time should bigger than zero\n",
    "for i in range(P):\n",
    "    for j in range(T):\n",
    "        solver.Add(s[i][j]>=0)\n",
    "    \n",
    "# The order between two tasks of one product\n",
    "routeLength = [[[[f[i][j][k][w]*L[k][w] for w in range(R)] for k in range(R)] for j in range(T-1)] for i in range(P)]\n",
    "for k in range(R):\n",
    "    for i in range(P):\n",
    "        for j in range(T-1):\n",
    "            solver.Add(s[i][j+1]-(s[i][j]+E[j]+waitingTimeForChange[i][j]+sum(sum(routeLength[i][j],[])))>=0)\n",
    "              \n",
    "# Completion condition\n",
    "for i in range(P):\n",
    "    solver.Add(sum(sum([[x[i][j][k]*1 for k in range(R)] for j in range(T)],[]))==3)\n",
    "    \n",
    "# Must at least one robot could run\n",
    "for k in range(R):\n",
    "    solver.Add(20-sum(sum([[x[i][j][k]*1 for j in range(T)] for i in range(P)],[]))>=0)\n",
    "\n",
    "# Squency of two tasks\n",
    "for k in range(R):\n",
    "    for i in range(P):\n",
    "        for j in range(T):\n",
    "            for g in range(P):\n",
    "                for h in range(T):\n",
    "                    if not(i==g and j==h):    \n",
    "                        solver.Add(y[i][j][g][h][k]+y[g][h][i][j][k] == xp[i][j][g][h][k])\n",
    "                    else:\n",
    "                        solver.Add(y[i][j][g][h][k]==0)\n",
    "\n",
    "# One robot only can process one task at the same time\n",
    "for k in range(R):\n",
    "    for i in range(P):\n",
    "        for j in range(T):\n",
    "            for g in range(P):\n",
    "                for h in range(T):\n",
    "                    if not(i==g and j==h):\n",
    "                        solver.Add(ygh[i][j][g][h][k]-yij[i][j][g][h][k]-y[i][j][g][h][k]*E[j]-yChange[i][j][g][h][k]*changeTime>=0)"
   ]
  },
  {
   "cell_type": "code",
   "execution_count": 13,
   "id": "9e357317",
   "metadata": {},
   "outputs": [
    {
     "name": "stdout",
     "output_type": "stream",
     "text": [
      "Number of variables = 22273\n"
     ]
    }
   ],
   "source": [
    "print('Number of variables =', solver.NumVariables())"
   ]
  },
  {
   "cell_type": "code",
   "execution_count": null,
   "id": "1b2b8a85",
   "metadata": {},
   "outputs": [],
   "source": [
    "start_time = time.time()\n",
    "# Solve the problem.\n",
    "print(f'Solving with {solver.SolverVersion()}')\n",
    "\n",
    "objective = solver.Sum([5 * z1, 5 * z2])\n",
    "solver.Minimize(objective)\n",
    "status = solver.Solve()\n",
    "end_time = time.time()\n",
    "if status == pywraplp.Solver.OPTIMAL:\n",
    "    print('Weight:', w, 'Solution:', solver.Objective().Value())\n",
    "    '''\n",
    "    for i in range(P):\n",
    "        for j in range(T):\n",
    "            for k in range(R):\n",
    "                print('x =', x[i][j][k].solution_value())\n",
    "    for i in range(P):\n",
    "        for j in range(T):\n",
    "            print('s =', s[i][j].solution_value())'''\n",
    "else:\n",
    "    print('No feasible solutions.')\n",
    "running_time = end_time - start_time\n",
    "print(\"The running time is:\", running_time, \"seconds.\")"
   ]
  },
  {
   "cell_type": "code",
   "execution_count": null,
   "id": "ffa67385",
   "metadata": {},
   "outputs": [
    {
     "name": "stdout",
     "output_type": "stream",
     "text": [
      "0 0 0\n",
      "0 1 0\n",
      "1 2 0\n",
      "5 1 0\n",
      "0 2 1\n",
      "3 0 1\n",
      "4 1 1\n",
      "1 1 2\n",
      "2 0 2\n",
      "5 2 2\n",
      "2 2 3\n",
      "5 0 3\n",
      "3 1 4\n",
      "4 0 4\n",
      "4 2 4\n",
      "1 0 5\n",
      "2 1 5\n",
      "3 2 5\n"
     ]
    }
   ],
   "source": [
    "for k in range(R):\n",
    "    for i in range(P):\n",
    "        for j in range(T):\n",
    "            if x[i][j][k].solution_value() == 1:\n",
    "                print(i,j,k)"
   ]
  },
  {
   "cell_type": "code",
   "execution_count": null,
   "id": "b0e76bc4",
   "metadata": {},
   "outputs": [
    {
     "name": "stdout",
     "output_type": "stream",
     "text": [
      "0.0\n",
      "0.0\n"
     ]
    }
   ],
   "source": [
    "print(y[3][0][3][1][0].solution_value())\n",
    "print(xp[3][0][3][1][0].solution_value())"
   ]
  },
  {
   "cell_type": "code",
   "execution_count": null,
   "id": "c146eebe",
   "metadata": {},
   "outputs": [
    {
     "name": "stdout",
     "output_type": "stream",
     "text": [
      "4 0 4\n"
     ]
    }
   ],
   "source": [
    "for k in range(R):\n",
    "    for i in range(P):\n",
    "        for j in range(T):\n",
    "            if y[i][j][3][1][k].solution_value() == 1:\n",
    "                print(i,j,k)"
   ]
  },
  {
   "cell_type": "code",
   "execution_count": null,
   "id": "690846c1",
   "metadata": {},
   "outputs": [],
   "source": [
    "productRobot = []\n",
    "productStartTime = []\n",
    "processTime = np.zeros((P,T), dtype=int)\n",
    "for i in range(P):\n",
    "    for j in range(T):\n",
    "        productStartTime.append(s[i][j].solution_value())\n",
    "        for k in range(R):\n",
    "            if x[i][j][k].solution_value() == 1:\n",
    "                productRobot.append(k)\n",
    "            processTime[i][j] = E[j]"
   ]
  },
  {
   "cell_type": "code",
   "execution_count": null,
   "id": "b6fbe39d",
   "metadata": {},
   "outputs": [
    {
     "name": "stdout",
     "output_type": "stream",
     "text": [
      "                Task  Robot    Product  Start  Finish  task_duration\n",
      "0   Product 1 Task 1      1  Product 1    0.0    50.0           50.0\n",
      "1   Product 1 Task 2      1  Product 1   50.0    78.0           28.0\n",
      "2   Product 1 Task 3      2  Product 1  122.0   170.0           48.0\n",
      "3   Product 2 Task 1      6  Product 2    0.0    50.0           50.0\n",
      "4   Product 2 Task 2      3  Product 2   54.0    82.0           28.0\n",
      "5   Product 2 Task 3      1  Product 2  106.0   154.0           48.0\n",
      "6   Product 3 Task 1      3  Product 3    0.0    50.0           50.0\n",
      "7   Product 3 Task 2      6  Product 3   54.0    82.0           28.0\n",
      "8   Product 3 Task 3      4  Product 3   96.0   144.0           48.0\n",
      "9   Product 4 Task 1      2  Product 4    0.0    50.0           50.0\n",
      "10  Product 4 Task 2      5  Product 4   54.0    82.0           28.0\n",
      "11  Product 4 Task 3      6  Product 4   89.0   137.0           48.0\n",
      "12  Product 5 Task 1      5  Product 5    0.0    50.0           50.0\n",
      "13  Product 5 Task 2      2  Product 5   54.0    82.0           28.0\n",
      "14  Product 5 Task 3      5  Product 5   86.0   134.0           48.0\n",
      "15  Product 6 Task 1      4  Product 6    0.0    50.0           50.0\n",
      "16  Product 6 Task 2      1  Product 6   78.0   106.0           28.0\n",
      "17  Product 6 Task 3      3  Product 6  122.0   170.0           48.0\n"
     ]
    },
    {
     "data": {
      "image/png": "[encoded data removed]",
      "text/plain": [
       "<Figure size 1000x600 with 1 Axes>"
      ]
     },
     "metadata": {},
     "output_type": "display_data"
    }
   ],
   "source": [
    "generateGanttChart(R,P,T,productRobot,productStartTime,processTime.tolist())"
   ]
  },
  {
   "cell_type": "code",
   "execution_count": null,
   "id": "5146b984",
   "metadata": {},
   "outputs": [
    {
     "ename": "NameError",
     "evalue": "name 'z' is not defined",
     "output_type": "error",
     "traceback": [
      "\u001b[0;31m---------------------------------------------------------------------------\u001b[0m",
      "\u001b[0;31mNameError\u001b[0m                                 Traceback (most recent call last)",
      "Cell \u001b[0;32mIn[1], line 1\u001b[0m\n\u001b[0;32m----> 1\u001b[0m z[\u001b[39m4\u001b[39m][\u001b[39m0\u001b[39m][\u001b[39m1\u001b[39m][\u001b[39m2\u001b[39m][\u001b[39m0\u001b[39m]\u001b[39m.\u001b[39msolution_value()\n",
      "\u001b[0;31mNameError\u001b[0m: name 'z' is not defined"
     ]
    }
   ],
   "source": [
    "z[4][0][1][2][0].solution_value()"
   ]
  },
  {
   "cell_type": "code",
   "execution_count": null,
   "id": "b3bfc158",
   "metadata": {},
   "outputs": [
    {
     "ename": "NameError",
     "evalue": "name 'difference' is not defined",
     "output_type": "error",
     "traceback": [
      "\u001b[0;31m---------------------------------------------------------------------------\u001b[0m",
      "\u001b[0;31mNameError\u001b[0m                                 Traceback (most recent call last)",
      "Cell \u001b[0;32mIn[2], line 1\u001b[0m\n\u001b[0;32m----> 1\u001b[0m difference[\u001b[39m4\u001b[39m][\u001b[39m0\u001b[39m][\u001b[39m4\u001b[39m][\u001b[39m1\u001b[39m][\u001b[39m0\u001b[39m]\u001b[39m.\u001b[39msolution_value()\n",
      "\u001b[0;31mNameError\u001b[0m: name 'difference' is not defined"
     ]
    }
   ],
   "source": [
    "difference[4][0][4][1][0].solution_value()"
   ]
  },
  {
   "cell_type": "code",
   "execution_count": null,
   "id": "048cfb87",
   "metadata": {},
   "outputs": [
    {
     "data": {
      "text/plain": [
       "0.0"
      ]
     },
     "execution_count": 37,
     "metadata": {},
     "output_type": "execute_result"
    }
   ],
   "source": [
    "zDiff[4][0][4][1][0].solution_value()"
   ]
  },
  {
   "cell_type": "code",
   "execution_count": null,
   "id": "8f420aef",
   "metadata": {},
   "outputs": [
    {
     "data": {
      "text/plain": [
       "0.0"
      ]
     },
     "execution_count": 38,
     "metadata": {},
     "output_type": "execute_result"
    }
   ],
   "source": [
    "pTasks[2][2][0].solution_value()"
   ]
  },
  {
   "cell_type": "code",
   "execution_count": null,
   "id": "200a2391",
   "metadata": {},
   "outputs": [
    {
     "data": {
      "text/plain": [
       "0.0"
      ]
     },
     "execution_count": 39,
     "metadata": {},
     "output_type": "execute_result"
    }
   ],
   "source": [
    "y[5][0][5][1][0].solution_value()"
   ]
  },
  {
   "cell_type": "code",
   "execution_count": null,
   "id": "e2a34aee",
   "metadata": {},
   "outputs": [
    {
     "name": "stdout",
     "output_type": "stream",
     "text": [
      "0 0 0 1 0\n",
      "0 1 5 1 0\n",
      "4 0 0 0 0\n",
      "5 1 1 2 0\n",
      "3 0 4 1 1\n",
      "4 0 3 0 1\n",
      "4 1 0 2 1\n",
      "1 1 5 2 2\n",
      "2 0 1 1 2\n",
      "3 2 2 0 2\n",
      "4 1 5 0 3\n",
      "5 0 2 2 3\n",
      "3 1 4 2 4\n",
      "4 0 3 1 4\n",
      "4 1 4 0 4\n",
      "1 0 2 1 5\n",
      "2 1 3 2 5\n",
      "3 0 1 0 5\n"
     ]
    }
   ],
   "source": [
    "for k in range(R):\n",
    "    for i in range(P):\n",
    "        for j in range(T):\n",
    "            for g in range(P):\n",
    "                for h in range(T):\n",
    "                    if z[i][j][g][h][k].solution_value()==1:\n",
    "                        print(i,j,g,h,k)"
   ]
  },
  {
   "cell_type": "code",
   "execution_count": null,
   "id": "6aea3d35",
   "metadata": {},
   "outputs": [
    {
     "data": {
      "text/plain": [
       "0.0"
      ]
     },
     "execution_count": 41,
     "metadata": {},
     "output_type": "execute_result"
    }
   ],
   "source": [
    "sum(z[i][j][3][2][1] for i in range(P) for j in range(T)).solution_value()"
   ]
  },
  {
   "cell_type": "code",
   "execution_count": null,
   "id": "b28e2d24",
   "metadata": {},
   "outputs": [
    {
     "name": "stdout",
     "output_type": "stream",
     "text": [
      "0 0\n",
      "0 1\n",
      "1 1\n",
      "1 2\n",
      "2 0\n",
      "3 0\n",
      "3 1\n",
      "4 0\n",
      "4 1\n",
      "4 2\n",
      "5 0\n",
      "5 1\n"
     ]
    }
   ],
   "source": [
    "for i in range(P):\n",
    "    for j in range(T):\n",
    "        for g in range(P):\n",
    "            for h in range(T):\n",
    "                if g==2 and h ==1:\n",
    "                    if penalty[i][j][g][h]==1:\n",
    "                        print(i,j)\n"
   ]
  },
  {
   "cell_type": "code",
   "execution_count": null,
   "id": "e5cf5b72",
   "metadata": {},
   "outputs": [],
   "source": [
    "for k in range(R):\n",
    "    for i in range(P):\n",
    "        for j in range(T):\n",
    "            for g in range(P):\n",
    "                for h in range(T):\n",
    "                    if g==0 and h ==1:\n",
    "                        if yChange[i][j][g][h][k].solution_value()==1:\n",
    "                            print(i,j,k)"
   ]
  },
  {
   "cell_type": "code",
   "execution_count": null,
   "id": "92a991a6",
   "metadata": {},
   "outputs": [],
   "source": []
  }
 ],
 "metadata": {
  "kernelspec": {
   "display_name": "Python 3 (ipykernel)",
   "language": "python",
   "name": "python3"
  },
  "language_info": {
   "codemirror_mode": {
    "name": "ipython",
    "version": 3
   },
   "file_extension": ".py",
   "mimetype": "text/x-python",
   "name": "python",
   "nbconvert_exporter": "python",
   "pygments_lexer": "ipython3",
   "version": "3.10.0"
  }
 },
 "nbformat": 4,
 "nbformat_minor": 5
}
