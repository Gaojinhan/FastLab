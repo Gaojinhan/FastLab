{
 "cells": [
  {
   "cell_type": "code",
   "execution_count": 226,
   "id": "52e2e7f4",
   "metadata": {},
   "outputs": [],
   "source": [
    "from ortools.sat.python import cp_model\n",
    "import numpy as np"
   ]
  },
  {
   "cell_type": "code",
   "execution_count": 227,
   "id": "42083164",
   "metadata": {},
   "outputs": [],
   "source": [
    "# Declare the model\n",
    "model = cp_model.CpModel()"
   ]
  },
  {
   "cell_type": "code",
   "execution_count": 228,
   "id": "b6c14b0e",
   "metadata": {},
   "outputs": [],
   "source": [
    "# Define constant variables\n",
    "\n",
    "T = 105 # Time step number\n",
    "P = 6 # h \n",
    "Column = 4\n",
    "Row = 14\n",
    "numNode= Row * Column # Number of nodes\n",
    "\n",
    "#startPostions = [1,2,3,4,5,6,7,8,9,10]\n",
    "startPostions = [0,1,2,3,4,5]\n",
    "#R = [0,28,52,80,116,3,31,55,83,119]\n",
    "R = [0,28,52,3,31,55]\n",
    "goalPostions = [[R[0],R[0],R[1]],[R[1],R[1],R[2]],[R[2],R[2],R[3]],[R[3],R[3],R[4]],[R[4],R[4],R[5]],[R[5],R[5],R[0]]]\n",
    "targetTimes = [[5,55,94],[5,55,93],[5,55,104],[5,55,94],[5,55,93],[5,55,104]]\n",
    "processingTime = [50,28,48]"
   ]
  },
  {
   "cell_type": "code",
   "execution_count": 229,
   "id": "4d3f4495",
   "metadata": {},
   "outputs": [],
   "source": [
    "# Define decision variables\n",
    "x = [[[[model.NewIntVar(0,1,f'x_{i}_{j}_{t}_{k}') for k in range(P)] for t in range(T)] for j in range(numNode)] for i in range(numNode)]"
   ]
  },
  {
   "cell_type": "code",
   "execution_count": 230,
   "id": "2ffa62a6",
   "metadata": {},
   "outputs": [],
   "source": [
    "# Define intermediate variables\n",
    "y = [[model.NewIntVar(0,1,f'y_{k}_{t}') for t in range(T)] for k in range(P)]"
   ]
  },
  {
   "cell_type": "code",
   "execution_count": 231,
   "id": "670c42f0",
   "metadata": {},
   "outputs": [],
   "source": [
    "# N_i is the set of nodes connected to node i\n",
    "Map = np.arange(Row*Column).reshape(Row, Column)\n",
    "N = [[] for i in range(Row*Column)]\n",
    "\n",
    "# D_i is the set of the nodes connected to node i on the diagonal\n",
    "D = [[] for i in range(Row*Column)]\n",
    "\n",
    "# Four corners\n",
    "'''\n",
    "corners = [0,3,116,119]\n",
    "N[corners[0]]=[1,4,5]\n",
    "N[corners[1]]=[2,6,7]\n",
    "N[corners[2]]=[112,113,117]\n",
    "N[corners[3]]=[114,115,118]\n",
    "'''\n",
    "corners = [0,3,52,55]\n",
    "N[corners[0]]=[corners[0],1,4,5]\n",
    "D[corners[0]]=[corners[0],5]\n",
    "N[corners[1]]=[corners[1],2,6,7]\n",
    "D[corners[1]]=[corners[1],6]\n",
    "#N[corners[2]]=[corners[2],112,113,117]\n",
    "N[corners[2]]=[corners[2],48,49,53]\n",
    "D[corners[2]]=[corners[2],49]\n",
    "#N[corners[3]]=[corners[3],114,115,118]\n",
    "N[corners[3]]=[corners[3],50,51,54]\n",
    "D[corners[2]]=[corners[3],50]\n",
    "\n",
    "# Nodes in the edge\n",
    "edgeNodesB = [1,2]\n",
    "edgeNodesT = [53,54]\n",
    "edgeNodesL = []\n",
    "edgeNodesR = []\n",
    "for i in range(1,Row-1):\n",
    "    edgeNodesL.append(Map[i][0])\n",
    "    edgeNodesR.append(Map[i][Column-1])\n",
    "\n",
    "for node in edgeNodesB:\n",
    "    N[node]=[node,node-1,node+1,node+Column-1,node+Column,node+Column+1]\n",
    "    D[node]=[node+Column-1,node+Column+1]\n",
    "\n",
    "for node in edgeNodesT:\n",
    "    N[node]=[node,node-1,node+1,node-Column-1,node-Column,node-Column+1]\n",
    "    D[node]=[node-Column-1,node-Column+1]\n",
    "\n",
    "for node in edgeNodesL:\n",
    "    N[node]=[node,node-Column,node-Column+1,node+1,node+Column,node+Column+1]\n",
    "    D[node]=[node-Column+1,node+Column+1]\n",
    "\n",
    "for node in edgeNodesR:\n",
    "    N[node]=[node,node-Column,node-Column-1,node-1,node+Column,node+Column-1]\n",
    "    D[node]=[node-Column-1,node+Column-1]\n",
    "    \n",
    "# Nodes in the center part\n",
    "edgeNodes = corners+edgeNodesB+edgeNodesT+edgeNodesL+edgeNodesR\n",
    "nodes = list(range(Row*Column))\n",
    "centerNodes = list(set(nodes)-set(edgeNodes))\n",
    "\n",
    "for node in centerNodes:\n",
    "    N[node]=[node,node-Column-1,node-Column,node-Column+1,node-1,node+1,node+Column-1,node+Column,node+Column+1]\n",
    "    D[node]=[node-Column-1,node-Column+1,node+Column-1,node+Column+1]"
   ]
  },
  {
   "cell_type": "code",
   "execution_count": 232,
   "id": "e434a28e",
   "metadata": {},
   "outputs": [
    {
     "data": {
      "text/plain": [
       "[1, 4, 5, 6, 9]"
      ]
     },
     "execution_count": 232,
     "metadata": {},
     "output_type": "execute_result"
    }
   ],
   "source": [
    "list(set(N[5])-set(D[5]))"
   ]
  },
  {
   "cell_type": "code",
   "execution_count": 233,
   "id": "4f3b6212",
   "metadata": {},
   "outputs": [],
   "source": [
    "# Define constraints\n",
    "\n",
    "# Definition of x\n",
    "for k in range(P):\n",
    "    for t in range(T):\n",
    "        model.Add(sum(x[i][j][t][k] for j in range(numNode) for i in range(numNode)) == 1)\n",
    "        for i in range(numNode):\n",
    "            model.Add(sum(x[i][j][t][k] for j in range(numNode) if j not in N[i]) == 0)\n",
    "            #model.Add(sum(x[i][j][t][k] for j in range(numNode) if j in N[j]) <= 1)"
   ]
  },
  {
   "cell_type": "code",
   "execution_count": 234,
   "id": "fbc816c0",
   "metadata": {},
   "outputs": [],
   "source": [
    "for i in range(numNode):\n",
    "    for t in range(T-1):\n",
    "        for k in range(P):\n",
    "            model.Add(sum(x[j][i][t][k] for j in range(numNode) if j in N[i]) == sum(x[i][n][t+1][k] for n in range(numNode) if n in N[i]))"
   ]
  },
  {
   "cell_type": "code",
   "execution_count": 235,
   "id": "b53a6ce7",
   "metadata": {},
   "outputs": [],
   "source": [
    "# Collision avoidance\n",
    "for j in range(numNode):\n",
    "    for t in range(T):\n",
    "        model.Add(sum(x[i][j][t][k] for k in range(P) for i in range(numNode) if i in N[j])<=1)"
   ]
  },
  {
   "cell_type": "code",
   "execution_count": 236,
   "id": "86bf8117",
   "metadata": {},
   "outputs": [],
   "source": [
    "for t in range(T):\n",
    "    for i in range(numNode):\n",
    "        for j in range(numNode):\n",
    "            if i!=j:\n",
    "                model.Add(sum((x[i][j][t][k]+x[j][i][t][k]) for k in range(P)) <= 1)"
   ]
  },
  {
   "cell_type": "code",
   "execution_count": 237,
   "id": "57ed3531",
   "metadata": {},
   "outputs": [],
   "source": [
    "# Movement Constraints\n",
    "diagFlag = [[[model.NewBoolVar(f'diagFlag_{i}_{t}_{k}') for k in range(P)] for t in range(T-2)] for i in range(numNode)]\n",
    "for i in range(numNode):\n",
    "    for k in range(P):\n",
    "        model.Add(diagFlag[i][2][k]==sum(x[i][n][t][k] for n in range(numNode) if n in D[i]))\n",
    "        model.Add(sum(x[j][j][3][k] for j in D[i])==1).OnlyEnforceIf(diagFlag[i][2][k])\n",
    "        model.Add(sum(x[j][j][4][k] for j in D[i])==1).OnlyEnforceIf(diagFlag[i][2][k])\n",
    "        for t in range(2,T-2):\n",
    "            model.Add(diagFlag[i][t][k]<=sum(x[j][i][t-1][k] for j in range(numNode) if j in list(set(N[i])-set(D[i]))))\n",
    "            model.Add(diagFlag[i][t][k]<=sum(x[i][n][t][k] for n in range(numNode) if n in D[i]))\n",
    "            model.Add(diagFlag[i][t][k]>=sum(x[j][i][t-1][k] for j in range(numNode) if j in list(set(N[i])-set(D[i])))+sum(x[i][n][t][k] for n in range(numNode) if n in D[i])-1)\n",
    "\n",
    "            model.Add(sum(x[j][j][t+1][k] for j in D[i])==1).OnlyEnforceIf(diagFlag[i][t][k])\n",
    "            model.Add(sum(x[j][j][t+2][k] for j in D[i])==1).OnlyEnforceIf(diagFlag[i][t][k])\n",
    "        \n",
    "\n"
   ]
  },
  {
   "cell_type": "code",
   "execution_count": 238,
   "id": "9ea1930e",
   "metadata": {},
   "outputs": [],
   "source": [
    "# Start Postions\n",
    "for k in range(P):\n",
    "    model.Add(x[R[k]][R[k]][0][k]==1)\n"
   ]
  },
  {
   "cell_type": "code",
   "execution_count": 239,
   "id": "345464e7",
   "metadata": {},
   "outputs": [],
   "source": [
    "# Completion conditions\n",
    "for pallet in range(P):\n",
    "    for task in range(len(goalPostions[0])):\n",
    "        goal = goalPostions[pallet][task]\n",
    "        timing = targetTimes[pallet][task]\n",
    "        model.Add(sum(x[i][goal][timing][pallet] for i in range(numNode) if i in N[goal])==1)\n",
    "        if task<2:\n",
    "            for t in range(timing+1,timing+processingTime[task]):\n",
    "                model.Add(x[goal][goal][t][pallet]==1)\n",
    "    for t in range(T):\n",
    "        model.Add(sum(x[i][goal][t][pallet] for i in range(numNode) if i in N[goal])==1-y[pallet][t])\n",
    "        if t<=timing-1:\n",
    "            model.Add(-y[pallet][t]+y[pallet][t+1]<=0)\n"
   ]
  },
  {
   "cell_type": "code",
   "execution_count": 240,
   "id": "2b6af05f",
   "metadata": {},
   "outputs": [],
   "source": [
    "# Processing Time Window\n"
   ]
  },
  {
   "cell_type": "code",
   "execution_count": 241,
   "id": "f8e96804",
   "metadata": {},
   "outputs": [],
   "source": [
    "# Objective Function\n",
    "cost = sum(y[k][t] for t in range(T) for k in range(P))\n",
    "model.Minimize(cost)"
   ]
  },
  {
   "cell_type": "code",
   "execution_count": 242,
   "id": "11a901ed",
   "metadata": {},
   "outputs": [
    {
     "name": "stdout",
     "output_type": "stream",
     "text": [
      "Maximum of objective function: 558.0\n",
      "\n"
     ]
    }
   ],
   "source": [
    "solver = cp_model.CpSolver()\n",
    "status = solver.Solve(model)\n",
    "if status == cp_model.OPTIMAL or status == cp_model.FEASIBLE:\n",
    "    print(f'Maximum of objective function: {solver.ObjectiveValue()}\\n')\n",
    "else:\n",
    "    print('No solution found.')"
   ]
  },
  {
   "cell_type": "code",
   "execution_count": 243,
   "id": "5dd72ab8",
   "metadata": {},
   "outputs": [],
   "source": [
    "#for pallet in range(P):\n",
    "route = [[] for k in range(P)]\n",
    "for pallet in range(P):\n",
    "    for i in range(numNode): \n",
    "        for j in range(numNode):\n",
    "            for t in range(T):\n",
    "                if solver.Value(x[i][j][t][pallet]) == 1:\n",
    "                    route[pallet].append((i,j,t))\n",
    "                \n",
    "    route[pallet]=sorted(route[pallet],key= lambda item: item[2])"
   ]
  },
  {
   "cell_type": "code",
   "execution_count": 244,
   "id": "4eaf2c31",
   "metadata": {},
   "outputs": [],
   "source": [
    "#route=sorted(route,key= lambda item: item[2])"
   ]
  },
  {
   "cell_type": "code",
   "execution_count": 245,
   "id": "992c9a5d",
   "metadata": {},
   "outputs": [
    {
     "data": {
      "text/plain": [
       "[(0, 0, 0),\n",
       " (0, 5, 1),\n",
       " (5, 1, 2),\n",
       " (1, 0, 3),\n",
       " (0, 1, 4),\n",
       " (1, 0, 5),\n",
       " (0, 0, 6),\n",
       " (0, 0, 7),\n",
       " (0, 0, 8),\n",
       " (0, 0, 9),\n",
       " (0, 0, 10),\n",
       " (0, 0, 11),\n",
       " (0, 0, 12),\n",
       " (0, 0, 13),\n",
       " (0, 0, 14),\n",
       " (0, 0, 15),\n",
       " (0, 0, 16),\n",
       " (0, 0, 17),\n",
       " (0, 0, 18),\n",
       " (0, 0, 19),\n",
       " (0, 0, 20),\n",
       " (0, 0, 21),\n",
       " (0, 0, 22),\n",
       " (0, 0, 23),\n",
       " (0, 0, 24),\n",
       " (0, 0, 25),\n",
       " (0, 0, 26),\n",
       " (0, 0, 27),\n",
       " (0, 0, 28),\n",
       " (0, 0, 29),\n",
       " (0, 0, 30),\n",
       " (0, 0, 31),\n",
       " (0, 0, 32),\n",
       " (0, 0, 33),\n",
       " (0, 0, 34),\n",
       " (0, 0, 35),\n",
       " (0, 0, 36),\n",
       " (0, 0, 37),\n",
       " (0, 0, 38),\n",
       " (0, 0, 39),\n",
       " (0, 0, 40),\n",
       " (0, 0, 41),\n",
       " (0, 0, 42),\n",
       " (0, 0, 43),\n",
       " (0, 0, 44),\n",
       " (0, 0, 45),\n",
       " (0, 0, 46),\n",
       " (0, 0, 47),\n",
       " (0, 0, 48),\n",
       " (0, 0, 49),\n",
       " (0, 0, 50),\n",
       " (0, 0, 51),\n",
       " (0, 0, 52),\n",
       " (0, 0, 53),\n",
       " (0, 0, 54),\n",
       " (0, 0, 55),\n",
       " (0, 0, 56),\n",
       " (0, 0, 57),\n",
       " (0, 0, 58),\n",
       " (0, 0, 59),\n",
       " (0, 0, 60),\n",
       " (0, 0, 61),\n",
       " (0, 0, 62),\n",
       " (0, 0, 63),\n",
       " (0, 0, 64),\n",
       " (0, 0, 65),\n",
       " (0, 0, 66),\n",
       " (0, 0, 67),\n",
       " (0, 0, 68),\n",
       " (0, 0, 69),\n",
       " (0, 0, 70),\n",
       " (0, 0, 71),\n",
       " (0, 0, 72),\n",
       " (0, 0, 73),\n",
       " (0, 0, 74),\n",
       " (0, 0, 75),\n",
       " (0, 0, 76),\n",
       " (0, 0, 77),\n",
       " (0, 0, 78),\n",
       " (0, 0, 79),\n",
       " (0, 0, 80),\n",
       " (0, 0, 81),\n",
       " (0, 0, 82),\n",
       " (0, 5, 83),\n",
       " (5, 8, 84),\n",
       " (8, 13, 85),\n",
       " (13, 18, 86),\n",
       " (18, 21, 87),\n",
       " (21, 24, 88),\n",
       " (24, 28, 89),\n",
       " (28, 28, 90),\n",
       " (28, 28, 91),\n",
       " (28, 28, 92),\n",
       " (28, 28, 93),\n",
       " (28, 28, 94),\n",
       " (28, 28, 95),\n",
       " (28, 28, 96),\n",
       " (28, 28, 97),\n",
       " (28, 28, 98),\n",
       " (28, 28, 99),\n",
       " (28, 28, 100),\n",
       " (28, 28, 101),\n",
       " (28, 28, 102),\n",
       " (28, 28, 103),\n",
       " (28, 28, 104)]"
      ]
     },
     "execution_count": 245,
     "metadata": {},
     "output_type": "execute_result"
    }
   ],
   "source": [
    "route[0]"
   ]
  },
  {
   "cell_type": "code",
   "execution_count": 246,
   "id": "d857d51b",
   "metadata": {},
   "outputs": [
    {
     "data": {
      "text/plain": [
       "array([[ 0,  1,  2,  3],\n",
       "       [ 4,  5,  6,  7],\n",
       "       [ 8,  9, 10, 11],\n",
       "       [12, 13, 14, 15],\n",
       "       [16, 17, 18, 19],\n",
       "       [20, 21, 22, 23],\n",
       "       [24, 25, 26, 27],\n",
       "       [28, 29, 30, 31],\n",
       "       [32, 33, 34, 35],\n",
       "       [36, 37, 38, 39],\n",
       "       [40, 41, 42, 43],\n",
       "       [44, 45, 46, 47],\n",
       "       [48, 49, 50, 51],\n",
       "       [52, 53, 54, 55]])"
      ]
     },
     "execution_count": 246,
     "metadata": {},
     "output_type": "execute_result"
    }
   ],
   "source": [
    "Map"
   ]
  }
 ],
 "metadata": {
  "kernelspec": {
   "display_name": "Python 3 (ipykernel)",
   "language": "python",
   "name": "python3"
  },
  "language_info": {
   "codemirror_mode": {
    "name": "ipython",
    "version": 3
   },
   "file_extension": ".py",
   "mimetype": "text/x-python",
   "name": "python",
   "nbconvert_exporter": "python",
   "pygments_lexer": "ipython3",
   "version": "3.10.0"
  }
 },
 "nbformat": 4,
 "nbformat_minor": 5
}
