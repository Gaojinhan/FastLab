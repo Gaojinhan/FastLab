{
 "cells": [
  {
   "cell_type": "code",
   "execution_count": 1,
   "id": "52e2e7f4",
   "metadata": {},
   "outputs": [],
   "source": [
    "from ortools.sat.python import cp_model\n",
    "import numpy as np"
   ]
  },
  {
   "cell_type": "code",
   "execution_count": 2,
   "id": "42083164",
   "metadata": {},
   "outputs": [],
   "source": [
    "# Declare the model\n",
    "model = cp_model.CpModel()"
   ]
  },
  {
   "cell_type": "code",
   "execution_count": 3,
   "id": "b6c14b0e",
   "metadata": {},
   "outputs": [],
   "source": [
    "# Define constant variables\n",
    "\n",
    "T = 80 # Time step number\n",
    "P = 6 # h \n",
    "Column = 4\n",
    "Row = 14\n",
    "numNode= Row * Column # Number of nodes\n",
    "\n",
    "#startPostions = [1,2,3,4,5,6,7,8,9,10]\n",
    "startPostions = [0,1,2,3,4,5]\n",
    "#R = [0,28,52,80,116,3,31,55,83,119]\n",
    "R = [0,28,52,3,31,55]\n",
    "goalPostions = [[R[0],R[0],R[1]],[R[1],R[1],R[2]],[R[2],R[2],R[3]],[R[3],R[3],R[4]],[R[4],R[4],R[5]],[R[5],R[5],R[0]]]\n",
    "targetTimes = [[5,55,66],[5,55,65],[5,55,76],[5,55,66],[5,55,65],[5,55,76]]"
   ]
  },
  {
   "cell_type": "code",
   "execution_count": 4,
   "id": "4d3f4495",
   "metadata": {},
   "outputs": [],
   "source": [
    "# Define decision variables\n",
    "x = [[[[model.NewIntVar(0,1,f'x_{i}_{j}_{t}_{k}') for k in range(P)] for t in range(T)] for j in range(numNode)] for i in range(numNode)]"
   ]
  },
  {
   "cell_type": "code",
   "execution_count": 5,
   "id": "2ffa62a6",
   "metadata": {},
   "outputs": [],
   "source": [
    "# Define intermediate variables\n",
    "y = [[model.NewIntVar(0,1,f'y_{k}_{t}') for t in range(T)] for k in range(P)]"
   ]
  },
  {
   "cell_type": "code",
   "execution_count": 6,
   "id": "670c42f0",
   "metadata": {},
   "outputs": [],
   "source": [
    "# N_i is the set of nodes connected to node i\n",
    "Map = np.arange(Row*Column).reshape(Row, Column)\n",
    "N = [[] for i in range(Row*Column)]\n",
    "\n",
    "# Four corners\n",
    "'''\n",
    "corners = [0,3,116,119]\n",
    "N[corners[0]]=[1,4,5]\n",
    "N[corners[1]]=[2,6,7]\n",
    "N[corners[2]]=[112,113,117]\n",
    "N[corners[3]]=[114,115,118]\n",
    "'''\n",
    "corners = [0,3,52,55]\n",
    "N[corners[0]]=[1,4,5]\n",
    "N[corners[1]]=[2,6,7]\n",
    "#N[corners[2]]=[112,113,117]\n",
    "N[corners[2]]=[48,49,53]\n",
    "#N[corners[3]]=[114,115,118]\n",
    "N[corners[3]]=[50,51,54]\n",
    "\n",
    "# Nodes in the edge\n",
    "edgeNodesB = [1,2]\n",
    "edgeNodesT = [53,54]\n",
    "edgeNodesL = []\n",
    "edgeNodesR = []\n",
    "for i in range(1,Row-1):\n",
    "    edgeNodesL.append(Map[i][0])\n",
    "    edgeNodesR.append(Map[i][Column-1])\n",
    "\n",
    "for node in edgeNodesB:\n",
    "    N[node]=[node,node-1,node+1,node+Column-1,node+Column,node+Column+1]\n",
    "\n",
    "for node in edgeNodesT:\n",
    "    N[node]=[node,node-1,node+1,node-Column-1,node-Column,node-Column+1]\n",
    "\n",
    "for node in edgeNodesL:\n",
    "    N[node]=[node,node-Column,node-Column+1,node+1,node+Column,node+Column+1]\n",
    "\n",
    "for node in edgeNodesR:\n",
    "    N[node]=[node,node-Column,node-Column-1,node-1,node+Column,node+Column-1]\n",
    "    \n",
    "# Nodes in the center part\n",
    "edgeNodes = corners+edgeNodesB+edgeNodesT+edgeNodesL+edgeNodesR\n",
    "nodes = list(range(Row*Column))\n",
    "centerNodes = list(set(nodes)-set(edgeNodes))\n",
    "\n",
    "for node in centerNodes:\n",
    "    N[node]=[node,node-Column-1,node-Column,node-Column+1,node-1,node+1,node+Column-1,node+Column,node+Column+1]"
   ]
  },
  {
   "cell_type": "code",
   "execution_count": 7,
   "id": "4f3b6212",
   "metadata": {},
   "outputs": [],
   "source": [
    "# Define constraints\n",
    "\n",
    "# Definition of x\n",
    "for k in range(P):\n",
    "    for t in range(T):\n",
    "        model.Add(sum(x[i][j][t][k] for j in range(numNode) for i in range(numNode)) == 1)\n",
    "        for i in range(numNode):\n",
    "            model.Add(sum(x[i][j][t][k] for j in range(numNode) if j not in N[i]) == 0)\n",
    "            #model.Add(sum(x[i][j][t][k] for j in range(numNode) if j in N[j]) <= 1)"
   ]
  },
  {
   "cell_type": "code",
   "execution_count": 8,
   "id": "fbc816c0",
   "metadata": {},
   "outputs": [],
   "source": [
    "for i in range(numNode):\n",
    "    for t in range(T-1):\n",
    "        for k in range(P):\n",
    "            model.Add(sum(x[j][i][t][k] for j in range(numNode) if j in N[i]) == sum(x[i][n][t+1][k] for n in range(numNode) if n in N[i]))"
   ]
  },
  {
   "cell_type": "code",
   "execution_count": 9,
   "id": "b53a6ce7",
   "metadata": {},
   "outputs": [],
   "source": [
    "# Collision avoidance\n",
    "for j in range(numNode):\n",
    "    for t in range(T):\n",
    "        model.Add(sum(x[i][j][t][k] for k in range(P) for i in range(numNode) if i in N[j])<=1)"
   ]
  },
  {
   "cell_type": "code",
   "execution_count": 10,
   "id": "86bf8117",
   "metadata": {},
   "outputs": [],
   "source": [
    "for t in range(T):\n",
    "    for i in range(numNode):\n",
    "        for j in range(numNode):\n",
    "            if i!=j:\n",
    "                model.Add(sum((x[i][j][t][k]+x[j][i][t][k]) for k in range(P)) <= 1)"
   ]
  },
  {
   "cell_type": "code",
   "execution_count": 11,
   "id": "9ea1930e",
   "metadata": {},
   "outputs": [
    {
     "data": {
      "text/plain": [
       "<ortools.sat.python.cp_model.Constraint at 0x2196100a0d0>"
      ]
     },
     "execution_count": 11,
     "metadata": {},
     "output_type": "execute_result"
    }
   ],
   "source": [
    "# Start Postions\n",
    "#for k in range(P):\n",
    "#    model.Add(x[startPostions[k]][startPostions[k]][0][k]==1)\n",
    "model.Add(x[startPostions[0]][startPostions[0]][0][0]==1)"
   ]
  },
  {
   "cell_type": "code",
   "execution_count": 12,
   "id": "345464e7",
   "metadata": {},
   "outputs": [
    {
     "data": {
      "text/plain": [
       "'\\n# Completion conditions\\nfor pallet in range(P):\\n    for task in range(len(goalPostions[0])):\\n        goal = goalPostions[pallet][task]\\n        timing = targetTimes[pallet][task]\\n        model.Add(sum(x[i][goal][timing][pallet] for i in range(numNode) if i in N[goal])==1)\\n        for t in range(T):\\n            model.Add(sum(x[i][goal][t][pallet] for i in range(numNode) if i in N[goal])==1-y[pallet][t])\\n            if t<=timing-1:\\n                model.Add(-y[pallet][t]+y[pallet][t+1]<=0)\\n'"
      ]
     },
     "execution_count": 12,
     "metadata": {},
     "output_type": "execute_result"
    }
   ],
   "source": [
    "'''\n",
    "# Completion conditions\n",
    "for pallet in range(P):\n",
    "    for task in range(len(goalPostions[0])):\n",
    "        goal = goalPostions[pallet][task]\n",
    "        timing = targetTimes[pallet][task]\n",
    "        model.Add(sum(x[i][goal][timing][pallet] for i in range(numNode) if i in N[goal])==1)\n",
    "        for t in range(T):\n",
    "            model.Add(sum(x[i][goal][t][pallet] for i in range(numNode) if i in N[goal])==1-y[pallet][t])\n",
    "            if t<=timing-1:\n",
    "                model.Add(-y[pallet][t]+y[pallet][t+1]<=0)\n",
    "'''"
   ]
  },
  {
   "cell_type": "code",
   "execution_count": 13,
   "id": "f8e96804",
   "metadata": {},
   "outputs": [],
   "source": [
    "# Objective Function\n",
    "cost = sum(y[k][t] for t in range(T) for k in range(P))\n",
    "model.Minimize(cost)"
   ]
  },
  {
   "cell_type": "code",
   "execution_count": 14,
   "id": "11a901ed",
   "metadata": {},
   "outputs": [
    {
     "name": "stdout",
     "output_type": "stream",
     "text": [
      "No solution found.\n"
     ]
    }
   ],
   "source": [
    "solver = cp_model.CpSolver()\n",
    "status = solver.Solve(model)\n",
    "if status == cp_model.OPTIMAL or status == cp_model.FEASIBLE:\n",
    "    print(f'Maximum of objective function: {solver.ObjectiveValue()}\\n')\n",
    "else:\n",
    "    print('No solution found.')"
   ]
  },
  {
   "cell_type": "code",
   "execution_count": null,
   "id": "5dd72ab8",
   "metadata": {},
   "outputs": [],
   "source": []
  }
 ],
 "metadata": {
  "kernelspec": {
   "display_name": "Python 3 (ipykernel)",
   "language": "python",
   "name": "python3"
  },
  "language_info": {
   "codemirror_mode": {
    "name": "ipython",
    "version": 3
   },
   "file_extension": ".py",
   "mimetype": "text/x-python",
   "name": "python",
   "nbconvert_exporter": "python",
   "pygments_lexer": "ipython3",
   "version": "3.11.0"
  }
 },
 "nbformat": 4,
 "nbformat_minor": 5
}
