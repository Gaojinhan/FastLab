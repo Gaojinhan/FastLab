{
 "cells": [
  {
   "cell_type": "code",
   "execution_count": 3,
   "id": "52e2e7f4",
   "metadata": {},
   "outputs": [],
   "source": [
    "from ortools.sat.python import cp_model\n",
    "import numpy as np\n",
    "import csv"
   ]
  },
  {
   "cell_type": "code",
   "execution_count": 4,
   "id": "2ed74d13",
   "metadata": {},
   "outputs": [],
   "source": [
    "def readData(id,filename,R):\n",
    "    goal_positions = []\n",
    "    target_time = []\n",
    "\n",
    "    with open(filename, 'r') as csv_file:\n",
    "        csv_reader = csv.DictReader(csv_file)\n",
    "        \n",
    "        for row in csv_reader:\n",
    "            if row['id'] == str(id):\n",
    "                goal_positions.append(R[int(row['goal_positions'])])\n",
    "                target_time.append(int(row['target_time']))\n",
    "\n",
    "    array1 = np.array(goal_positions).reshape(int(len(goal_positions)/3),3)\n",
    "    array2 = np.array(target_time).reshape(int(len(target_time)/3),3)\n",
    "\n",
    "    return array1.tolist(), array2.tolist()"
   ]
  },
  {
   "cell_type": "code",
   "execution_count": 5,
   "id": "3833220b",
   "metadata": {},
   "outputs": [],
   "source": [
    "def writeDataToCSV(id,route):\n",
    "    header = ['id','transporter_1', 'transporter_2', 'transporter_3', 'transporter_4', 'transporter_5', 'transporter_6']\n",
    "    data = []\n",
    "    for i in range(len(route[0])):\n",
    "        data.append([id,route[0][i],route[1][i],route[2][i],route[3][i],route[4][i],route[5][i]])\n",
    "\n",
    "    with open('./data/LPsolution.csv', 'w', encoding='UTF8', newline='') as f:\n",
    "        writer = csv.writer(f)\n",
    "        # write the header\n",
    "        writer.writerow(header)\n",
    "        # write the data\n",
    "        writer.writerows(data)"
   ]
  },
  {
   "cell_type": "code",
   "execution_count": 6,
   "id": "42083164",
   "metadata": {},
   "outputs": [],
   "source": [
    "# Declare the model\n",
    "model = cp_model.CpModel()"
   ]
  },
  {
   "cell_type": "code",
   "execution_count": 7,
   "id": "b6c14b0e",
   "metadata": {},
   "outputs": [],
   "source": [
    "# Define constant variables\n",
    "\n",
    "T = 140 # Time step number\n",
    "P = 6 # h \n",
    "Column = 4\n",
    "Row = 14\n",
    "numNode= Row * Column # Number of nodes\n",
    "\n",
    "#startPostions = [1,2,3,4,5,6,7,8,9,10]\n",
    "startPostions = [0,1,2,3,4,5]\n",
    "#R = [0,28,52,80,116,3,31,55,83,119]\n",
    "R = [0,28,52,3,31,55]\n",
    "#goalPostions = [[R[0],R[0],R[1]],[R[1],R[1],R[2]],[R[2],R[2],R[3]],[R[3],R[3],R[4]],[R[4],R[4],R[5]],[R[5],R[5],R[0]]]\n",
    "#targetTimes = [[5,55,94],[5,55,93],[5,55,104],[5,55,94],[5,55,93],[5,55,104]]\n",
    "goalPostions,targetTimes = readData(1,'./data/UPsolution.csv',R)\n",
    "processingTime = [50,28,48]"
   ]
  },
  {
   "cell_type": "code",
   "execution_count": 8,
   "id": "4d3f4495",
   "metadata": {},
   "outputs": [],
   "source": [
    "# Define decision variables\n",
    "x = [[[[model.NewIntVar(0,1,f'x_{i}_{j}_{t}_{k}') for k in range(P)] for t in range(T)] for j in range(numNode)] for i in range(numNode)]"
   ]
  },
  {
   "cell_type": "code",
   "execution_count": 9,
   "id": "2ffa62a6",
   "metadata": {},
   "outputs": [],
   "source": [
    "# Define intermediate variables\n",
    "y = [[model.NewIntVar(0,1,f'y_{k}_{t}') for t in range(T)] for k in range(P)]"
   ]
  },
  {
   "cell_type": "code",
   "execution_count": 10,
   "id": "670c42f0",
   "metadata": {},
   "outputs": [],
   "source": [
    "# N_i is the set of nodes connected to node i\n",
    "Map = np.arange(Row*Column).reshape(Row, Column)\n",
    "N = [[] for i in range(Row*Column)]\n",
    "\n",
    "# D_i is the set of the nodes connected to node i on the diagonal\n",
    "D = [[] for i in range(Row*Column)]\n",
    "\n",
    "# Four corners\n",
    "corners = [0,3,52,55]\n",
    "N[corners[0]]=[corners[0],1,4,5]\n",
    "D[corners[0]]=[corners[0],5]\n",
    "N[corners[1]]=[corners[1],2,6,7]\n",
    "D[corners[1]]=[corners[1],6]\n",
    "#N[corners[2]]=[corners[2],112,113,117]\n",
    "N[corners[2]]=[corners[2],48,49,53]\n",
    "D[corners[2]]=[corners[2],49]\n",
    "#N[corners[3]]=[corners[3],114,115,118]\n",
    "N[corners[3]]=[corners[3],50,51,54]\n",
    "D[corners[2]]=[corners[3],50]\n",
    "\n",
    "# Nodes in the edge\n",
    "edgeNodesB = [1,2]\n",
    "edgeNodesT = [53,54]\n",
    "edgeNodesL = []\n",
    "edgeNodesR = []\n",
    "for i in range(1,Row-1):\n",
    "    edgeNodesL.append(Map[i][0])\n",
    "    edgeNodesR.append(Map[i][Column-1])\n",
    "\n",
    "for node in edgeNodesB:\n",
    "    N[node]=[node,node-1,node+1,node+Column-1,node+Column,node+Column+1]\n",
    "    D[node]=[node+Column-1,node+Column+1]\n",
    "\n",
    "for node in edgeNodesT:\n",
    "    N[node]=[node,node-1,node+1,node-Column-1,node-Column,node-Column+1]\n",
    "    D[node]=[node-Column-1,node-Column+1]\n",
    "\n",
    "for node in edgeNodesL:\n",
    "    N[node]=[node,node-Column,node-Column+1,node+1,node+Column,node+Column+1]\n",
    "    D[node]=[node-Column+1,node+Column+1]\n",
    "\n",
    "for node in edgeNodesR:\n",
    "    N[node]=[node,node-Column,node-Column-1,node-1,node+Column,node+Column-1]\n",
    "    D[node]=[node-Column-1,node+Column-1]\n",
    "    \n",
    "# Nodes in the center part\n",
    "edgeNodes = corners+edgeNodesB+edgeNodesT+edgeNodesL+edgeNodesR\n",
    "nodes = list(range(Row*Column))\n",
    "centerNodes = list(set(nodes)-set(edgeNodes))\n",
    "\n",
    "for node in centerNodes:\n",
    "    N[node]=[node,node-Column-1,node-Column,node-Column+1,node-1,node+1,node+Column-1,node+Column,node+Column+1]\n",
    "    D[node]=[node-Column-1,node-Column+1,node+Column-1,node+Column+1]"
   ]
  },
  {
   "cell_type": "code",
   "execution_count": 18,
   "id": "2e6cf2d1",
   "metadata": {},
   "outputs": [
    {
     "data": {
      "text/plain": [
       "28"
      ]
     },
     "execution_count": 18,
     "metadata": {},
     "output_type": "execute_result"
    }
   ],
   "source": [
    "R[1]"
   ]
  },
  {
   "cell_type": "code",
   "execution_count": 11,
   "id": "33e41cbc",
   "metadata": {},
   "outputs": [
    {
     "data": {
      "text/plain": [
       "array([[ 0,  1,  2,  3],\n",
       "       [ 4,  5,  6,  7],\n",
       "       [ 8,  9, 10, 11],\n",
       "       [12, 13, 14, 15],\n",
       "       [16, 17, 18, 19],\n",
       "       [20, 21, 22, 23],\n",
       "       [24, 25, 26, 27],\n",
       "       [28, 29, 30, 31],\n",
       "       [32, 33, 34, 35],\n",
       "       [36, 37, 38, 39],\n",
       "       [40, 41, 42, 43],\n",
       "       [44, 45, 46, 47],\n",
       "       [48, 49, 50, 51],\n",
       "       [52, 53, 54, 55]])"
      ]
     },
     "execution_count": 11,
     "metadata": {},
     "output_type": "execute_result"
    }
   ],
   "source": [
    "Map"
   ]
  },
  {
   "cell_type": "code",
   "execution_count": 2,
   "id": "4f3b6212",
   "metadata": {},
   "outputs": [
    {
     "ename": "NameError",
     "evalue": "name 'P' is not defined",
     "output_type": "error",
     "traceback": [
      "\u001b[1;31m---------------------------------------------------------------------------\u001b[0m",
      "\u001b[1;31mNameError\u001b[0m                                 Traceback (most recent call last)",
      "Cell \u001b[1;32mIn[2], line 4\u001b[0m\n\u001b[0;32m      1\u001b[0m \u001b[39m# Define constraints\u001b[39;00m\n\u001b[0;32m      2\u001b[0m \n\u001b[0;32m      3\u001b[0m \u001b[39m# Definition of x\u001b[39;00m\n\u001b[1;32m----> 4\u001b[0m \u001b[39mfor\u001b[39;00m k \u001b[39min\u001b[39;00m \u001b[39mrange\u001b[39m(P):\n\u001b[0;32m      5\u001b[0m     \u001b[39mfor\u001b[39;00m t \u001b[39min\u001b[39;00m \u001b[39mrange\u001b[39m(T):\n\u001b[0;32m      6\u001b[0m         model\u001b[39m.\u001b[39mAdd(\u001b[39msum\u001b[39m(x[i][j][t][k] \u001b[39mfor\u001b[39;00m j \u001b[39min\u001b[39;00m \u001b[39mrange\u001b[39m(numNode) \u001b[39mfor\u001b[39;00m i \u001b[39min\u001b[39;00m \u001b[39mrange\u001b[39m(numNode)) \u001b[39m==\u001b[39m \u001b[39m1\u001b[39m)\n",
      "\u001b[1;31mNameError\u001b[0m: name 'P' is not defined"
     ]
    }
   ],
   "source": [
    "# Define constraints\n",
    "\n",
    "# Definition of x\n",
    "for k in range(P):\n",
    "    for t in range(T):\n",
    "        model.Add(sum(x[i][j][t][k] for j in range(numNode) for i in range(numNode)) == 1)\n",
    "        for i in range(numNode):\n",
    "            model.Add(sum(x[i][j][t][k] for j in range(numNode) if j not in N[i]) == 0)"
   ]
  },
  {
   "cell_type": "code",
   "execution_count": null,
   "id": "fbc816c0",
   "metadata": {},
   "outputs": [],
   "source": [
    "for i in range(numNode):\n",
    "    for t in range(T-1):\n",
    "        for k in range(P):\n",
    "            model.Add(sum(x[j][i][t][k] for j in range(numNode) if j in N[i]) == sum(x[i][n][t+1][k] for n in range(numNode) if n in N[i]))"
   ]
  },
  {
   "cell_type": "code",
   "execution_count": null,
   "id": "b53a6ce7",
   "metadata": {},
   "outputs": [],
   "source": [
    "# Collision avoidance\n",
    "for j in range(numNode):\n",
    "    for t in range(T):\n",
    "        model.Add(sum(x[i][j][t][k] for k in range(P) for i in range(numNode) if i in N[j])<=1)"
   ]
  },
  {
   "cell_type": "code",
   "execution_count": null,
   "id": "86bf8117",
   "metadata": {},
   "outputs": [],
   "source": [
    "for t in range(T):\n",
    "    for i in range(numNode):\n",
    "        for j in range(numNode):\n",
    "            if i!=j:\n",
    "                model.Add(sum((x[i][j][t][k]+x[j][i][t][k]) for k in range(P)) <= 1)\n"
   ]
  },
  {
   "cell_type": "code",
   "execution_count": null,
   "id": "57ed3531",
   "metadata": {},
   "outputs": [],
   "source": [
    "# Movement Constraints\n",
    "diagFlag = [[[model.NewBoolVar(f'diagFlag_{i}_{t}_{k}') for k in range(P)] for t in range(T-2)] for i in range(numNode)]\n",
    "for i in range(numNode):\n",
    "    for k in range(P):\n",
    "        model.Add(diagFlag[i][2][k]==sum(x[i][n][t][k] for n in range(numNode) if n in D[i]))\n",
    "        model.Add(sum(x[j][j][3][k] for j in D[i])==1).OnlyEnforceIf(diagFlag[i][2][k])\n",
    "        model.Add(sum(x[j][j][4][k] for j in D[i])==1).OnlyEnforceIf(diagFlag[i][2][k])\n",
    "        for t in range(2,T-2):\n",
    "            model.Add(diagFlag[i][t][k]<=sum(x[j][i][t-1][k] for j in range(numNode) if j in list(set(N[i])-set(D[i]))))\n",
    "            model.Add(diagFlag[i][t][k]<=sum(x[i][n][t][k] for n in range(numNode) if n in D[i]))\n",
    "            model.Add(diagFlag[i][t][k]>=sum(x[j][i][t-1][k] for j in range(numNode) if j in list(set(N[i])-set(D[i])))+sum(x[i][n][t][k] for n in range(numNode) if n in D[i])-1)\n",
    "\n",
    "            model.Add(sum(x[j][j][t+1][k] for j in D[i])==1).OnlyEnforceIf(diagFlag[i][t][k])\n",
    "            model.Add(sum(x[j][j][t+2][k] for j in D[i])==1).OnlyEnforceIf(diagFlag[i][t][k])\n"
   ]
  },
  {
   "cell_type": "code",
   "execution_count": null,
   "id": "9ea1930e",
   "metadata": {},
   "outputs": [
    {
     "data": {
      "text/plain": [
       "<ortools.sat.python.cp_model.Constraint at 0x26100cea950>"
      ]
     },
     "execution_count": 16,
     "metadata": {},
     "output_type": "execute_result"
    }
   ],
   "source": [
    "# Start Postions \n",
    "model.Add(x[R[5]][R[5]][0][0]==1)\n",
    "model.Add(x[R[4]][R[4]][0][1]==1)\n",
    "model.Add(x[R[1]][R[1]][0][2]==1)\n",
    "model.Add(x[R[0]][R[0]][0][3]==1)\n",
    "model.Add(x[R[3]][R[3]][0][4]==1)\n",
    "model.Add(x[R[2]][R[2]][0][5]==1)"
   ]
  },
  {
   "cell_type": "code",
   "execution_count": null,
   "id": "345464e7",
   "metadata": {},
   "outputs": [],
   "source": [
    "# Completion conditions\n",
    "for pallet in range(P):\n",
    "    for task in range(len(goalPostions[0])):\n",
    "        goal = goalPostions[pallet][task]\n",
    "        timing = targetTimes[pallet][task]\n",
    "        model.Add(sum(x[i][goal][timing][pallet] for i in range(numNode) if i in N[goal])==1)\n",
    "     \n",
    "        if task<2:\n",
    "            for t in range(timing+1,timing+processingTime[task]):\n",
    "                model.Add(x[goal][goal][t][pallet]==1)\n",
    "    \n",
    "    for t in range(T):\n",
    "        model.Add(sum(x[i][goal][t][pallet] for i in range(numNode) if i in N[goal])==1-y[pallet][t])\n",
    "        if t<=timing-1:\n",
    "            model.Add(-y[pallet][t]+y[pallet][t+1]<=0)"
   ]
  },
  {
   "cell_type": "code",
   "execution_count": null,
   "id": "f8e96804",
   "metadata": {},
   "outputs": [],
   "source": [
    "# Objective Function\n",
    "cost = sum(y[k][t] for t in range(T) for k in range(P))\n",
    "model.Minimize(cost)"
   ]
  },
  {
   "cell_type": "code",
   "execution_count": null,
   "id": "11a901ed",
   "metadata": {},
   "outputs": [
    {
     "name": "stdout",
     "output_type": "stream",
     "text": [
      "Maximum of objective function: 612.0\n",
      "\n"
     ]
    }
   ],
   "source": [
    "solver = cp_model.CpSolver()\n",
    "status = solver.Solve(model)\n",
    "if status == cp_model.OPTIMAL or status == cp_model.FEASIBLE:\n",
    "    print(f'Maximum of objective function: {solver.ObjectiveValue()}\\n')\n",
    "else:\n",
    "    print('No solution found.')"
   ]
  },
  {
   "cell_type": "code",
   "execution_count": null,
   "id": "5dd72ab8",
   "metadata": {},
   "outputs": [],
   "source": [
    "#for pallet in range(P):\n",
    "route = [[] for k in range(P)]\n",
    "for pallet in range(P):\n",
    "    for i in range(numNode): \n",
    "        for j in range(numNode):\n",
    "            for t in range(T):\n",
    "                if solver.Value(x[i][j][t][pallet]) == 1:\n",
    "                    route[pallet].append((i,j,t,pallet))\n",
    "                \n",
    "    route[pallet]=sorted(route[pallet],key= lambda item: item[2])"
   ]
  },
  {
   "cell_type": "code",
   "execution_count": null,
   "id": "992c9a5d",
   "metadata": {},
   "outputs": [],
   "source": [
    "writeDataToCSV(1,route)"
   ]
  }
 ],
 "metadata": {
  "kernelspec": {
   "display_name": "Python 3 (ipykernel)",
   "language": "python",
   "name": "python3"
  },
  "language_info": {
   "codemirror_mode": {
    "name": "ipython",
    "version": 3
   },
   "file_extension": ".py",
   "mimetype": "text/x-python",
   "name": "python",
   "nbconvert_exporter": "python",
   "pygments_lexer": "ipython3",
   "version": "3.10.0"
  }
 },
 "nbformat": 4,
 "nbformat_minor": 5
}
